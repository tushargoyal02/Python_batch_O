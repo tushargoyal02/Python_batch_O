{
 "cells": [
  {
   "cell_type": "code",
   "execution_count": 1,
   "id": "7337f24b",
   "metadata": {},
   "outputs": [],
   "source": [
    "# looping statement\n",
    "# for  while"
   ]
  },
  {
   "cell_type": "code",
   "execution_count": 5,
   "id": "da729b6f",
   "metadata": {},
   "outputs": [
    {
     "data": {
      "text/plain": [
       "'N'"
      ]
     },
     "execution_count": 5,
     "metadata": {},
     "output_type": "execute_result"
    }
   ],
   "source": [
    "state=\"RAJASTHAN\"\n",
    "\n",
    "state[-1]"
   ]
  },
  {
   "cell_type": "code",
   "execution_count": 6,
   "id": "c969e363",
   "metadata": {},
   "outputs": [],
   "source": [
    "# position ke acoording \n",
    "# using (Slicing operator)\n",
    "#  [ start: stop:  [step=1]  ]"
   ]
  },
  {
   "cell_type": "code",
   "execution_count": 11,
   "id": "ee5e4cd9",
   "metadata": {},
   "outputs": [
    {
     "data": {
      "text/plain": [
       "'JAST'"
      ]
     },
     "execution_count": 11,
     "metadata": {},
     "output_type": "execute_result"
    }
   ],
   "source": [
    "state=\"RAJASTHAN\"\n",
    "\n",
    "state[2:6]"
   ]
  },
  {
   "cell_type": "code",
   "execution_count": 15,
   "id": "bb797afc",
   "metadata": {},
   "outputs": [
    {
     "data": {
      "text/plain": [
       "'ASTHAN'"
      ]
     },
     "execution_count": 15,
     "metadata": {},
     "output_type": "execute_result"
    }
   ],
   "source": [
    "state=\"RAJASTHAN\"\n",
    "\n",
    "state[3:]"
   ]
  },
  {
   "cell_type": "code",
   "execution_count": 17,
   "id": "e099e138",
   "metadata": {},
   "outputs": [
    {
     "data": {
      "text/plain": [
       "'RAJA'"
      ]
     },
     "execution_count": 17,
     "metadata": {},
     "output_type": "execute_result"
    }
   ],
   "source": [
    "state=\"RAJASTHAN\"\n",
    "\n",
    "state[:4]\n",
    "# state[0:4]\n",
    "# state[0:4:1]"
   ]
  },
  {
   "cell_type": "code",
   "execution_count": 19,
   "id": "24150b7e",
   "metadata": {},
   "outputs": [
    {
     "data": {
      "text/plain": [
       "'RJS'"
      ]
     },
     "execution_count": 19,
     "metadata": {},
     "output_type": "execute_result"
    }
   ],
   "source": [
    "state=\"RAJASTHAN\"\n",
    "state[0:5:2]"
   ]
  },
  {
   "cell_type": "code",
   "execution_count": 22,
   "id": "99d5cc31",
   "metadata": {},
   "outputs": [
    {
     "data": {
      "text/plain": [
       "'RJ'"
      ]
     },
     "execution_count": 22,
     "metadata": {},
     "output_type": "execute_result"
    }
   ],
   "source": [
    "state=\"RAJASTHAN\"\n",
    "state[0:4:2]"
   ]
  },
  {
   "cell_type": "code",
   "execution_count": 26,
   "id": "0501174f",
   "metadata": {},
   "outputs": [
    {
     "data": {
      "text/plain": [
       "''"
      ]
     },
     "execution_count": 26,
     "metadata": {},
     "output_type": "execute_result"
    }
   ],
   "source": [
    "state=\"RAJASTHAN\"\n",
    "state[-1:-4]"
   ]
  },
  {
   "cell_type": "code",
   "execution_count": 28,
   "id": "fd376b0f",
   "metadata": {},
   "outputs": [
    {
     "data": {
      "text/plain": [
       "'NAH'"
      ]
     },
     "execution_count": 28,
     "metadata": {},
     "output_type": "execute_result"
    }
   ],
   "source": [
    "state=\"RAJASTHAN\"\n",
    "state[-1:-4:-1]"
   ]
  },
  {
   "cell_type": "code",
   "execution_count": 29,
   "id": "ce9fcfee",
   "metadata": {},
   "outputs": [],
   "source": [
    "# loops (repetative)\n",
    "#for(i=0; i<condit ; i++)"
   ]
  },
  {
   "cell_type": "code",
   "execution_count": 30,
   "id": "05c2f0bc",
   "metadata": {},
   "outputs": [],
   "source": [
    "# range( start , stop,  [step=1] )\n",
    "# for i in range(10,4,-1)"
   ]
  },
  {
   "cell_type": "code",
   "execution_count": 33,
   "id": "2eab1a52",
   "metadata": {},
   "outputs": [
    {
     "name": "stdout",
     "output_type": "stream",
     "text": [
      "1\n",
      "4\n",
      "7\n"
     ]
    }
   ],
   "source": [
    "for i in range(1,8,3):\n",
    "    print(i)"
   ]
  },
  {
   "cell_type": "code",
   "execution_count": null,
   "id": "14102660",
   "metadata": {},
   "outputs": [],
   "source": [
    "\n"
   ]
  },
  {
   "cell_type": "code",
   "execution_count": 35,
   "id": "80e38769",
   "metadata": {},
   "outputs": [
    {
     "name": "stdout",
     "output_type": "stream",
     "text": [
      "h\n",
      "e\n",
      "l\n",
      "l\n",
      "o\n"
     ]
    }
   ],
   "source": [
    "for i in \"hello\":\n",
    "    print(i)"
   ]
  },
  {
   "cell_type": "code",
   "execution_count": 37,
   "id": "92d0cbd9",
   "metadata": {},
   "outputs": [
    {
     "data": {
      "text/plain": [
       "5"
      ]
     },
     "execution_count": 37,
     "metadata": {},
     "output_type": "execute_result"
    }
   ],
   "source": [
    "data=\"hello\"\n",
    "\n",
    "len(data)"
   ]
  },
  {
   "cell_type": "code",
   "execution_count": 44,
   "id": "227a0eee",
   "metadata": {},
   "outputs": [
    {
     "name": "stdout",
     "output_type": "stream",
     "text": [
      "0 tushar t\n",
      "1 tushar u\n",
      "2 tushar s\n",
      "3 tushar h\n",
      "4 tushar a\n",
      "5 tushar r\n"
     ]
    }
   ],
   "source": [
    "data='tushar'\n",
    "for index in range(0, len(data) ):\n",
    "    print(index, data,   data[index])"
   ]
  },
  {
   "cell_type": "code",
   "execution_count": 47,
   "id": "c4886a50",
   "metadata": {},
   "outputs": [
    {
     "name": "stdout",
     "output_type": "stream",
     "text": [
      "5\n"
     ]
    }
   ],
   "source": [
    "count=0\n",
    "for i in \"hello\":\n",
    "    count +=1\n",
    "    \n",
    "print(count)"
   ]
  },
  {
   "cell_type": "code",
   "execution_count": 50,
   "id": "f1497397",
   "metadata": {},
   "outputs": [
    {
     "name": "stdout",
     "output_type": "stream",
     "text": [
      "3\n"
     ]
    }
   ],
   "source": [
    "total=0\n",
    "for i in \"hello hey\":\n",
    "    if(i in \"aeiou\"):\n",
    "        total+=1\n",
    "print(total)"
   ]
  },
  {
   "cell_type": "code",
   "execution_count": 53,
   "id": "7f057074",
   "metadata": {},
   "outputs": [
    {
     "name": "stdout",
     "output_type": "stream",
     "text": [
      "hello 1\n",
      "tushar\n",
      "tushar\n",
      "tushar\n",
      "tushar\n",
      "hello 2\n",
      "tushar\n",
      "tushar\n",
      "tushar\n",
      "tushar\n",
      "hello 3\n",
      "tushar\n",
      "tushar\n",
      "tushar\n",
      "tushar\n"
     ]
    }
   ],
   "source": [
    "for i in range(1,4):\n",
    "    print(\"hello\",i)\n",
    "    \n",
    "    for j in range(1,5):\n",
    "        print(\"tushar\")"
   ]
  },
  {
   "cell_type": "code",
   "execution_count": 62,
   "id": "b97edc5b",
   "metadata": {},
   "outputs": [],
   "source": [
    "del j"
   ]
  },
  {
   "cell_type": "code",
   "execution_count": 64,
   "id": "af31c70e",
   "metadata": {},
   "outputs": [
    {
     "name": "stdout",
     "output_type": "stream",
     "text": [
      "****\n",
      "***\n",
      "**\n",
      "*\n"
     ]
    }
   ],
   "source": [
    "for i in range(1,5):\n",
    "    \n",
    "    for j in range(i,5):\n",
    "        print(\"*\",end=\"\")\n",
    "    \n",
    "    print(\"\")"
   ]
  },
  {
   "cell_type": "code",
   "execution_count": null,
   "id": "398473d4",
   "metadata": {},
   "outputs": [],
   "source": []
  }
 ],
 "metadata": {
  "kernelspec": {
   "display_name": "Python 3 (ipykernel)",
   "language": "python",
   "name": "python3"
  },
  "language_info": {
   "codemirror_mode": {
    "name": "ipython",
    "version": 3
   },
   "file_extension": ".py",
   "mimetype": "text/x-python",
   "name": "python",
   "nbconvert_exporter": "python",
   "pygments_lexer": "ipython3",
   "version": "3.10.11"
  }
 },
 "nbformat": 4,
 "nbformat_minor": 5
}
