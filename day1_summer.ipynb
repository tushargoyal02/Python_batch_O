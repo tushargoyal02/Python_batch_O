{
 "cells": [
  {
   "cell_type": "code",
   "execution_count": 4,
   "id": "ca720635",
   "metadata": {},
   "outputs": [
    {
     "name": "stdout",
     "output_type": "stream",
     "text": [
      "hello world\n",
      "hey tushar\n"
     ]
    }
   ],
   "source": [
    "print(\"hello world\",end=\"\\n\")\n",
    "print(\"hey tushar\")"
   ]
  },
  {
   "cell_type": "code",
   "execution_count": 6,
   "id": "18fa93b2",
   "metadata": {},
   "outputs": [
    {
     "name": "stdout",
     "output_type": "stream",
     "text": [
      "hello world\n",
      "hey tushar\n"
     ]
    }
   ],
   "source": [
    "print(\"hello world\",end=\"\\n\")\n",
    "print(\"hey tushar\")"
   ]
  },
  {
   "cell_type": "code",
   "execution_count": 7,
   "id": "2ba6125d",
   "metadata": {},
   "outputs": [
    {
     "name": "stdout",
     "output_type": "stream",
     "text": [
      "hello world hey tushar\n",
      "new user\n"
     ]
    }
   ],
   "source": [
    "print(\"hello world\",end=\" \")\n",
    "print(\"hey tushar\")\n",
    "print(\"new user\")"
   ]
  },
  {
   "cell_type": "code",
   "execution_count": 10,
   "id": "eb8f8a1a",
   "metadata": {},
   "outputs": [],
   "source": [
    "age=100"
   ]
  },
  {
   "cell_type": "code",
   "execution_count": 11,
   "id": "da87f14e",
   "metadata": {},
   "outputs": [
    {
     "name": "stdout",
     "output_type": "stream",
     "text": [
      "<class 'int'>\n"
     ]
    }
   ],
   "source": [
    "print( type(age) )"
   ]
  },
  {
   "cell_type": "code",
   "execution_count": 12,
   "id": "d6038a70",
   "metadata": {},
   "outputs": [
    {
     "name": "stdout",
     "output_type": "stream",
     "text": [
      "<class 'str'>\n"
     ]
    }
   ],
   "source": [
    "city=\"Jaipur\"\n",
    "print( type(city) )"
   ]
  },
  {
   "cell_type": "code",
   "execution_count": 14,
   "id": "bc615a9d",
   "metadata": {},
   "outputs": [
    {
     "name": "stdout",
     "output_type": "stream",
     "text": [
      "<class 'str'>\n"
     ]
    }
   ],
   "source": [
    "city='Jaipur'\n",
    "print( type(city) )"
   ]
  },
  {
   "cell_type": "code",
   "execution_count": 16,
   "id": "d77f9e43",
   "metadata": {},
   "outputs": [],
   "source": [
    "address=\"\"\"mahatma gandi road\n",
    "gopalpura by pass\n",
    "Jaipur\"\"\""
   ]
  },
  {
   "cell_type": "code",
   "execution_count": 18,
   "id": "2c04f1eb",
   "metadata": {},
   "outputs": [
    {
     "name": "stdout",
     "output_type": "stream",
     "text": [
      "mahatma gandi road\n",
      "gopalpura by pass\n",
      "Jaipur\n"
     ]
    }
   ],
   "source": [
    "print(address)"
   ]
  },
  {
   "cell_type": "code",
   "execution_count": 21,
   "id": "a561ae2e",
   "metadata": {},
   "outputs": [
    {
     "name": "stdout",
     "output_type": "stream",
     "text": [
      "Company name is: regex year is: 2024\n"
     ]
    }
   ],
   "source": [
    "company=\"regex\"\n",
    "year=2024\n",
    "print(\"Company name is:\",company,\"year is:\",year)"
   ]
  },
  {
   "cell_type": "code",
   "execution_count": 25,
   "id": "b73d1a6c",
   "metadata": {},
   "outputs": [
    {
     "name": "stdout",
     "output_type": "stream",
     "text": [
      "Company name is regex year is 2024\n"
     ]
    }
   ],
   "source": [
    "company=\"regex\"\n",
    "year=2024\n",
    "print( f\"Company name is {company} year is {year}\")"
   ]
  },
  {
   "cell_type": "code",
   "execution_count": 29,
   "id": "1c29be4c",
   "metadata": {},
   "outputs": [
    {
     "name": "stdout",
     "output_type": "stream",
     "text": [
      "hey user tushar\n",
      "hey user tushar\n"
     ]
    }
   ],
   "source": [
    "username=\"tushar\"\n",
    "msg= f\"hey user {username}\"\n",
    "\n",
    "print(msg)\n",
    "\n",
    "username=\"aman\"\n",
    "print(msg)"
   ]
  },
  {
   "cell_type": "code",
   "execution_count": 33,
   "id": "841632df",
   "metadata": {},
   "outputs": [
    {
     "name": "stdout",
     "output_type": "stream",
     "text": [
      "before: 2032287910576\n",
      "Y : 2032287910576\n",
      "After: 2032309174320\n"
     ]
    }
   ],
   "source": [
    "city=\"jaipur\"\n",
    "print(\"before:\", id(city))\n",
    "\n",
    "y=\"jaipur\"\n",
    "print(\"Y :\", id(y))\n",
    "\n",
    "city=\"isha\"\n",
    "print(\"After:\", id(city))"
   ]
  },
  {
   "cell_type": "code",
   "execution_count": 35,
   "id": "b9f1f7ff",
   "metadata": {},
   "outputs": [
    {
     "name": "stdout",
     "output_type": "stream",
     "text": [
      "jaipur\n"
     ]
    }
   ],
   "source": [
    "print(y)"
   ]
  },
  {
   "cell_type": "code",
   "execution_count": 36,
   "id": "eb828b25",
   "metadata": {},
   "outputs": [
    {
     "data": {
      "text/plain": [
       "6.666666666666667"
      ]
     },
     "execution_count": 36,
     "metadata": {},
     "output_type": "execute_result"
    }
   ],
   "source": [
    "# operators\n",
    "# Arithmetic\n",
    "20/3"
   ]
  },
  {
   "cell_type": "code",
   "execution_count": 38,
   "id": "51aac586",
   "metadata": {},
   "outputs": [
    {
     "data": {
      "text/plain": [
       "6"
      ]
     },
     "execution_count": 38,
     "metadata": {},
     "output_type": "execute_result"
    }
   ],
   "source": [
    "20//3"
   ]
  },
  {
   "cell_type": "code",
   "execution_count": 39,
   "id": "b699a5b6",
   "metadata": {},
   "outputs": [
    {
     "data": {
      "text/plain": [
       "15.0"
      ]
     },
     "execution_count": 39,
     "metadata": {},
     "output_type": "execute_result"
    }
   ],
   "source": [
    "10.0+5"
   ]
  },
  {
   "cell_type": "code",
   "execution_count": 41,
   "id": "3c977a44",
   "metadata": {},
   "outputs": [
    {
     "data": {
      "text/plain": [
       "12.0"
      ]
     },
     "execution_count": 41,
     "metadata": {},
     "output_type": "execute_result"
    }
   ],
   "source": [
    "1+5*4/2-7+8"
   ]
  },
  {
   "cell_type": "code",
   "execution_count": 42,
   "id": "ab62d1da",
   "metadata": {},
   "outputs": [
    {
     "data": {
      "text/plain": [
       "2"
      ]
     },
     "execution_count": 42,
     "metadata": {},
     "output_type": "execute_result"
    }
   ],
   "source": [
    "20%3"
   ]
  },
  {
   "cell_type": "code",
   "execution_count": 43,
   "id": "e003d104",
   "metadata": {},
   "outputs": [
    {
     "data": {
      "text/plain": [
       "81"
      ]
     },
     "execution_count": 43,
     "metadata": {},
     "output_type": "execute_result"
    }
   ],
   "source": [
    "# **\n",
    "3**4"
   ]
  },
  {
   "cell_type": "code",
   "execution_count": 44,
   "id": "c81d7783",
   "metadata": {},
   "outputs": [],
   "source": [
    "# ** \n",
    "# * /  // %\n",
    "#  +  -\n",
    "\n"
   ]
  },
  {
   "cell_type": "code",
   "execution_count": 46,
   "id": "f7dcd576",
   "metadata": {},
   "outputs": [
    {
     "name": "stdout",
     "output_type": "stream",
     "text": [
      "15\n"
     ]
    }
   ],
   "source": [
    "# assignment\n",
    "x=10\n",
    "x = x+5     # x+=5\n",
    "print(x)"
   ]
  },
  {
   "cell_type": "code",
   "execution_count": 48,
   "id": "f97d33e2",
   "metadata": {},
   "outputs": [
    {
     "name": "stdout",
     "output_type": "stream",
     "text": [
      "125\n"
     ]
    }
   ],
   "source": [
    "x=5\n",
    "x **=3\n",
    "print(x)"
   ]
  },
  {
   "cell_type": "code",
   "execution_count": 49,
   "id": "f447408b",
   "metadata": {},
   "outputs": [],
   "source": [
    "# +=,  //="
   ]
  },
  {
   "cell_type": "code",
   "execution_count": 50,
   "id": "47fceef6",
   "metadata": {},
   "outputs": [],
   "source": [
    "# comparison"
   ]
  },
  {
   "cell_type": "code",
   "execution_count": 52,
   "id": "1b32a8a7",
   "metadata": {},
   "outputs": [
    {
     "data": {
      "text/plain": [
       "False"
      ]
     },
     "execution_count": 52,
     "metadata": {},
     "output_type": "execute_result"
    }
   ],
   "source": [
    "# logical\n",
    "# and  or  not\n",
    "\n",
    "x=10\n",
    "y=17\n",
    "\n",
    "x==10 and y>18"
   ]
  },
  {
   "cell_type": "code",
   "execution_count": 53,
   "id": "845bd526",
   "metadata": {},
   "outputs": [
    {
     "data": {
      "text/plain": [
       "True"
      ]
     },
     "execution_count": 53,
     "metadata": {},
     "output_type": "execute_result"
    }
   ],
   "source": [
    "# memership  & identity\n",
    "\n",
    "\"J\" in \"Jaipur\""
   ]
  },
  {
   "cell_type": "code",
   "execution_count": 54,
   "id": "51752d84",
   "metadata": {},
   "outputs": [
    {
     "data": {
      "text/plain": [
       "False"
      ]
     },
     "execution_count": 54,
     "metadata": {},
     "output_type": "execute_result"
    }
   ],
   "source": [
    "\"j\" in \"Jaipur\""
   ]
  },
  {
   "cell_type": "code",
   "execution_count": 57,
   "id": "6197e2ad",
   "metadata": {},
   "outputs": [
    {
     "data": {
      "text/plain": [
       "True"
      ]
     },
     "execution_count": 57,
     "metadata": {},
     "output_type": "execute_result"
    }
   ],
   "source": [
    "\"purJ\" not in \"Jaipur\""
   ]
  },
  {
   "cell_type": "code",
   "execution_count": 58,
   "id": "ada4fba7",
   "metadata": {},
   "outputs": [
    {
     "data": {
      "text/plain": [
       "True"
      ]
     },
     "execution_count": 58,
     "metadata": {},
     "output_type": "execute_result"
    }
   ],
   "source": [
    "# identity\n",
    "# variable => data type\n",
    "# object belong to a class\n",
    "\n",
    "x=10\n",
    "type(x) is int"
   ]
  },
  {
   "cell_type": "code",
   "execution_count": 60,
   "id": "95c4a6d6",
   "metadata": {},
   "outputs": [
    {
     "data": {
      "text/plain": [
       "True"
      ]
     },
     "execution_count": 60,
     "metadata": {},
     "output_type": "execute_result"
    }
   ],
   "source": [
    "x=\"abc\"\n",
    "type(x) is not int"
   ]
  },
  {
   "cell_type": "code",
   "execution_count": 61,
   "id": "b426f8c0",
   "metadata": {},
   "outputs": [],
   "source": [
    "# ==  and is operator\n",
    "\n",
    "x=500\n",
    "y=500"
   ]
  },
  {
   "cell_type": "code",
   "execution_count": 63,
   "id": "7c239935",
   "metadata": {},
   "outputs": [
    {
     "data": {
      "text/plain": [
       "True"
      ]
     },
     "execution_count": 63,
     "metadata": {},
     "output_type": "execute_result"
    }
   ],
   "source": [
    "x==y"
   ]
  },
  {
   "cell_type": "code",
   "execution_count": 65,
   "id": "1c9ca6f2",
   "metadata": {},
   "outputs": [
    {
     "data": {
      "text/plain": [
       "False"
      ]
     },
     "execution_count": 65,
     "metadata": {},
     "output_type": "execute_result"
    }
   ],
   "source": [
    "x is y"
   ]
  },
  {
   "cell_type": "code",
   "execution_count": 66,
   "id": "e911307d",
   "metadata": {},
   "outputs": [],
   "source": [
    "# conditional statement  "
   ]
  },
  {
   "cell_type": "code",
   "execution_count": 74,
   "id": "f4cc9669",
   "metadata": {},
   "outputs": [
    {
     "name": "stdout",
     "output_type": "stream",
     "text": [
      "condition is false\n"
     ]
    }
   ],
   "source": [
    "# if  statement\n",
    "'''\n",
    "if(condition):\n",
    "    statement\n",
    "\n",
    "'''\n",
    "x=101\n",
    "\n",
    "if( x==10 ):\n",
    "    print(\"hello\")\n",
    "else:\n",
    "    print(\"condition is false\")"
   ]
  },
  {
   "cell_type": "code",
   "execution_count": 77,
   "id": "94a2c976",
   "metadata": {},
   "outputs": [
    {
     "name": "stdout",
     "output_type": "stream",
     "text": [
      "condition is false\n"
     ]
    }
   ],
   "source": [
    "x=15\n",
    "if( x==10 ):\n",
    "    print(\"hello\")    \n",
    "elif( x==12 ):\n",
    "    print(\"hey\")\n",
    "else:\n",
    "    print(\"condition is false\")"
   ]
  },
  {
   "cell_type": "code",
   "execution_count": 78,
   "id": "85e50dcb",
   "metadata": {},
   "outputs": [],
   "source": [
    "#  take 3 variable and find out the minium value"
   ]
  },
  {
   "cell_type": "code",
   "execution_count": 79,
   "id": "d5c409f4",
   "metadata": {},
   "outputs": [
    {
     "data": {
      "text/plain": [
       "'\\ntake a input from the user and do the following\\n- if the number is greater than 60 print avergage\\n- if the number is greater than 70 and less than 80 print Good\\n- if the number is greater than 80 print Excellenebt\\n- otherwise print \\n\\n\\n\\n'"
      ]
     },
     "execution_count": 79,
     "metadata": {},
     "output_type": "execute_result"
    }
   ],
   "source": [
    "'''\n",
    "take a input from the user and do the following\n",
    "- if the number is greater than 60 print avergage\n",
    "- if the number is greater than 70 and less than 80 print Good\n",
    "- if the number is greater than 80 print Excellenebt\n",
    "- otherwise print \"BAD\"\n",
    "\n",
    "\n",
    "\n",
    "'''"
   ]
  },
  {
   "cell_type": "code",
   "execution_count": 83,
   "id": "0b38fff1",
   "metadata": {},
   "outputs": [
    {
     "name": "stdout",
     "output_type": "stream",
     "text": [
      "Enter a number:1\n",
      "<class 'int'>\n"
     ]
    }
   ],
   "source": [
    "x= int(  input(\"Enter a number:\") )\n",
    "print( type(x))"
   ]
  },
  {
   "cell_type": "code",
   "execution_count": 84,
   "id": "205f58c9",
   "metadata": {},
   "outputs": [
    {
     "data": {
      "text/plain": [
       "'\\nQ1 user input on number of unit in integer\\n- for the starting 10 unit price is 50 rs each\\n- for the next 20 unit price is 20 rs each\\n- for the rest of unit price will be 10rs\\ncalculate the total price\\n100  =>  500  +400 +700\\n90\\n70\\n'"
      ]
     },
     "execution_count": 84,
     "metadata": {},
     "output_type": "execute_result"
    }
   ],
   "source": [
    "'''\n",
    "Q1 user input on number of unit in integer\n",
    "- for the starting 10 unit price is 50 rs each\n",
    "- for the next 20 unit price is 20 rs each\n",
    "- for the rest of unit price will be 10rs\n",
    "calculate the total price\n",
    "100  =>  500  +400 +700\n",
    "90\n",
    "70\n",
    "\n",
    "Q2:\n",
    "take 3 number as input from a user as 3 side of a triangle\n",
    "and check whether it will create a triagle or not\n",
    "\n",
    "Q3 Take two number from the user and check whether both the number are divisble\n",
    "by 6\n",
    "( divisibility rule say it should be divided by 2 and 3)\n",
    "\n",
    "'''"
   ]
  },
  {
   "cell_type": "code",
   "execution_count": null,
   "id": "50eeea7f",
   "metadata": {},
   "outputs": [],
   "source": []
  }
 ],
 "metadata": {
  "kernelspec": {
   "display_name": "Python 3 (ipykernel)",
   "language": "python",
   "name": "python3"
  },
  "language_info": {
   "codemirror_mode": {
    "name": "ipython",
    "version": 3
   },
   "file_extension": ".py",
   "mimetype": "text/x-python",
   "name": "python",
   "nbconvert_exporter": "python",
   "pygments_lexer": "ipython3",
   "version": "3.10.11"
  }
 },
 "nbformat": 4,
 "nbformat_minor": 5
}
