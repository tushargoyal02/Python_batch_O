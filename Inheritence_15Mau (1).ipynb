{
 "cells": [
  {
   "cell_type": "code",
   "execution_count": 6,
   "id": "c79c0982",
   "metadata": {},
   "outputs": [],
   "source": [
    "class House:\n",
    "    color=\"yellow\"\n",
    "    room=5\n",
    "    \n",
    "    def  info(self):\n",
    "        print (\"House has\", self.color , self.room)\n"
   ]
  },
  {
   "cell_type": "code",
   "execution_count": 7,
   "id": "b39a4d6e",
   "metadata": {},
   "outputs": [
    {
     "name": "stdout",
     "output_type": "stream",
     "text": [
      "House has yellow 5\n"
     ]
    }
   ],
   "source": [
    "# object h1\n",
    "h1=House()\n",
    "h1.info()"
   ]
  },
  {
   "cell_type": "code",
   "execution_count": 12,
   "id": "96c77f43",
   "metadata": {},
   "outputs": [
    {
     "name": "stdout",
     "output_type": "stream",
     "text": [
      "House has yellow 10\n"
     ]
    }
   ],
   "source": [
    "house2 = House()\n",
    "house2.room=10\n",
    "house2.info()"
   ]
  },
  {
   "cell_type": "code",
   "execution_count": 37,
   "id": "5d9ba8bd",
   "metadata": {},
   "outputs": [
    {
     "name": "stdout",
     "output_type": "stream",
     "text": [
      "hello abc yellow\n",
      "hello abc green\n"
     ]
    }
   ],
   "source": [
    "# function  \n",
    "# object => memory assign karwate\n",
    "# object variable  => initialize\n",
    "\n",
    "class House:\n",
    "    def  __init__(self,color):\n",
    "        print(\"hello abc\",color)\n",
    "        \n",
    "# object\n",
    "h1=House(\"yellow\")\n",
    "h2=House(\"green\")"
   ]
  },
  {
   "cell_type": "code",
   "execution_count": 35,
   "id": "1a84d8e7",
   "metadata": {},
   "outputs": [
    {
     "name": "stdout",
     "output_type": "stream",
     "text": [
      "hello abc yellow\n",
      "<__main__.House object at 0x00000281574B9840>\n"
     ]
    }
   ],
   "source": [
    "\n"
   ]
  },
  {
   "cell_type": "code",
   "execution_count": 25,
   "id": "23cd71f2",
   "metadata": {},
   "outputs": [
    {
     "name": "stdout",
     "output_type": "stream",
     "text": [
      "hello abc <__main__.House object at 0x00000281574FB700>\n",
      "<__main__.House object at 0x00000281574FB700>\n"
     ]
    }
   ],
   "source": [
    "h2=House()\n",
    "print(h2)"
   ]
  },
  {
   "cell_type": "code",
   "execution_count": 39,
   "id": "e1dced43",
   "metadata": {},
   "outputs": [
    {
     "ename": "NameError",
     "evalue": "name 'color' is not defined",
     "output_type": "error",
     "traceback": [
      "\u001b[1;31m---------------------------------------------------------------------------\u001b[0m",
      "\u001b[1;31mNameError\u001b[0m                                 Traceback (most recent call last)",
      "Cell \u001b[1;32mIn[39], line 1\u001b[0m\n\u001b[1;32m----> 1\u001b[0m \u001b[38;5;28;01mdel\u001b[39;00m color\n",
      "\u001b[1;31mNameError\u001b[0m: name 'color' is not defined"
     ]
    }
   ],
   "source": [
    "del color"
   ]
  },
  {
   "cell_type": "code",
   "execution_count": 52,
   "id": "cbfa00ae",
   "metadata": {},
   "outputs": [
    {
     "name": "stdout",
     "output_type": "stream",
     "text": [
      "yellow 5\n",
      "green 2\n"
     ]
    }
   ],
   "source": [
    "class House:\n",
    "    def  __init__(self,color,room):\n",
    "        self.color=color\n",
    "        self.room=room\n",
    "        \n",
    "h1=House(\"yellow\",5)\n",
    "print(h1.color,  h1.room)\n",
    "\n",
    "\n",
    "h2=House(\"green\",2)\n",
    "print(h2.color,  h2.room)"
   ]
  },
  {
   "cell_type": "code",
   "execution_count": 47,
   "id": "66f19c9b",
   "metadata": {},
   "outputs": [],
   "source": [
    "# class employee\n",
    "# eid, ename, email , company, salary  => instance variable\n",
    "\n",
    "# also create a function which will print the name, the domain name\n",
    "# and the monthly salary of the suer\n",
    "\n",
    "# \"yash@yahoo.com\"   => yahoo.com"
   ]
  },
  {
   "cell_type": "code",
   "execution_count": 50,
   "id": "6f573fd4",
   "metadata": {},
   "outputs": [
    {
     "data": {
      "text/plain": [
       "'yahoo.com'"
      ]
     },
     "execution_count": 50,
     "metadata": {},
     "output_type": "execute_result"
    }
   ],
   "source": [
    "\"yash@yahoo.com\".split(\"@\")[-1]"
   ]
  },
  {
   "cell_type": "code",
   "execution_count": 53,
   "id": "4cdaaa90",
   "metadata": {},
   "outputs": [],
   "source": [
    "# Inheritence\n",
    "# already defined chizo dushri classes mai use krte hai\n",
    "# 15 lakh \n",
    "# Parent / base/ super class\n",
    "\n",
    "# child / derived/ sub class"
   ]
  },
  {
   "cell_type": "code",
   "execution_count": 61,
   "id": "aa51fb4d",
   "metadata": {},
   "outputs": [
    {
     "name": "stdout",
     "output_type": "stream",
     "text": [
      "10000\n"
     ]
    },
    {
     "data": {
      "text/plain": [
       "50"
      ]
     },
     "execution_count": 61,
     "metadata": {},
     "output_type": "execute_result"
    }
   ],
   "source": [
    "class Family:\n",
    "    amount=10000\n",
    "    \n",
    "class childern(Family):\n",
    "    pocket_money=50\n",
    "    print( Family.amount )\n",
    "    \n",
    "\n",
    "c1=childern()\n",
    "c1.pocket_money\n",
    "\n"
   ]
  },
  {
   "cell_type": "code",
   "execution_count": 65,
   "id": "72c01ae4",
   "metadata": {},
   "outputs": [
    {
     "data": {
      "text/plain": [
       "'naina'"
      ]
     },
     "execution_count": 65,
     "metadata": {},
     "output_type": "execute_result"
    }
   ],
   "source": [
    "class Driver:\n",
    "    def __init__(self, ids, name, email):\n",
    "        self.ids=ids\n",
    "        self.name=name\n",
    "        self.email=email\n",
    "        \n",
    "# (parent,parenr2)\n",
    "class Customer(Driver):\n",
    "    def __init__(self, cids, cname, cemail):\n",
    "        super().__init__(cids, cname, cemail)\n",
    "\n",
    "c1=Customer(99, \"naina\",\"naina@gmail.com\")\n",
    "c1.name"
   ]
  }
 ],
 "metadata": {
  "kernelspec": {
   "display_name": "Python 3 (ipykernel)",
   "language": "python",
   "name": "python3"
  },
  "language_info": {
   "codemirror_mode": {
    "name": "ipython",
    "version": 3
   },
   "file_extension": ".py",
   "mimetype": "text/x-python",
   "name": "python",
   "nbconvert_exporter": "python",
   "pygments_lexer": "ipython3",
   "version": "3.10.11"
  }
 },
 "nbformat": 4,
 "nbformat_minor": 5
}
