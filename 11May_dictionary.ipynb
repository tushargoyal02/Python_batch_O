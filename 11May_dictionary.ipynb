{
 "cells": [
  {
   "cell_type": "code",
   "execution_count": 5,
   "id": "f145422c",
   "metadata": {},
   "outputs": [
    {
     "data": {
      "text/plain": [
       "'A'"
      ]
     },
     "execution_count": 5,
     "metadata": {},
     "output_type": "execute_result"
    }
   ],
   "source": [
    "'''\n",
    "A\n",
    "BC\n",
    "\n",
    "'''\n",
    "\n",
    "chr(65)"
   ]
  },
  {
   "cell_type": "code",
   "execution_count": 10,
   "id": "5833f552",
   "metadata": {},
   "outputs": [
    {
     "name": "stdout",
     "output_type": "stream",
     "text": [
      "        * \n",
      "      * * \n",
      "    * * * \n",
      "  * * * * \n",
      "* * * * * \n"
     ]
    }
   ],
   "source": [
    "for  i in range(1,6):\n",
    "    for k in range(i,5):\n",
    "        print(\" \", end=\" \")\n",
    "    for j in range(1,i+1):\n",
    "        print(\"*\", end=\" \")\n",
    "    print(\"\")"
   ]
  },
  {
   "cell_type": "code",
   "execution_count": 12,
   "id": "add2318e",
   "metadata": {},
   "outputs": [
    {
     "name": "stdout",
     "output_type": "stream",
     "text": [
      "hello 1\n",
      "hello 2\n",
      "hello 3\n",
      "hello 4\n"
     ]
    }
   ],
   "source": [
    "# while loop\n",
    "# while(condition)\n",
    "\n",
    "# for i in range(1,5)\n",
    "i=1\n",
    "while(i<5):\n",
    "    print(\"hello\",i)\n",
    "    i+=1"
   ]
  },
  {
   "cell_type": "code",
   "execution_count": 13,
   "id": "4f73195f",
   "metadata": {},
   "outputs": [],
   "source": [
    "# List, tuple, dictionary, set"
   ]
  },
  {
   "cell_type": "code",
   "execution_count": 16,
   "id": "c7b6fd88",
   "metadata": {},
   "outputs": [
    {
     "name": "stdout",
     "output_type": "stream",
     "text": [
      "<class 'list'>\n"
     ]
    }
   ],
   "source": [
    "# list : collection of element, which has index position\n",
    "# mututable datatype\n",
    "# ordered collection of element\n",
    "\n",
    "mylist=[10,20,\"naina\"]\n",
    "print(type(mylist))"
   ]
  },
  {
   "cell_type": "code",
   "execution_count": 20,
   "id": "3cbf8cb8",
   "metadata": {},
   "outputs": [],
   "source": [
    "mylist[0]=100\n"
   ]
  },
  {
   "cell_type": "code",
   "execution_count": 23,
   "id": "94e85cfa",
   "metadata": {},
   "outputs": [
    {
     "name": "stdout",
     "output_type": "stream",
     "text": [
      "[100, 20, 'naina', 50, 50]\n"
     ]
    }
   ],
   "source": [
    "mylist.append(50)\n",
    "print(mylist)"
   ]
  },
  {
   "cell_type": "code",
   "execution_count": 25,
   "id": "de04fe08",
   "metadata": {},
   "outputs": [
    {
     "name": "stdout",
     "output_type": "stream",
     "text": [
      "[100, 20, 'naina', 50, 50]\n"
     ]
    }
   ],
   "source": [
    "print(mylist)"
   ]
  },
  {
   "cell_type": "code",
   "execution_count": 27,
   "id": "b68cfdc9",
   "metadata": {},
   "outputs": [
    {
     "name": "stdout",
     "output_type": "stream",
     "text": [
      "[100, 20, 'naina', 50, 50, 'h', 'e', 'y', 'h', 'e', 'y']\n"
     ]
    }
   ],
   "source": [
    "mylist.extend(\"hey\")\n",
    "\n",
    "print(mylist)"
   ]
  },
  {
   "cell_type": "code",
   "execution_count": 29,
   "id": "849614cc",
   "metadata": {},
   "outputs": [
    {
     "name": "stdout",
     "output_type": "stream",
     "text": [
      "[100, 20, 'naina', 50, 50, 'h', 'e', 'y', 'h', 'e', 'y', 'hey', 99, 'hey', 99]\n"
     ]
    }
   ],
   "source": [
    "mylist.extend( [\"hey\",99])\n",
    "\n",
    "print(mylist)"
   ]
  },
  {
   "cell_type": "code",
   "execution_count": 31,
   "id": "bdc31e10",
   "metadata": {},
   "outputs": [
    {
     "name": "stdout",
     "output_type": "stream",
     "text": [
      "Help on list object:\n",
      "\n",
      "class list(object)\n",
      " |  list(iterable=(), /)\n",
      " |  \n",
      " |  Built-in mutable sequence.\n",
      " |  \n",
      " |  If no argument is given, the constructor creates a new empty list.\n",
      " |  The argument must be an iterable if specified.\n",
      " |  \n",
      " |  Methods defined here:\n",
      " |  \n",
      " |  __add__(self, value, /)\n",
      " |      Return self+value.\n",
      " |  \n",
      " |  __contains__(self, key, /)\n",
      " |      Return key in self.\n",
      " |  \n",
      " |  __delitem__(self, key, /)\n",
      " |      Delete self[key].\n",
      " |  \n",
      " |  __eq__(self, value, /)\n",
      " |      Return self==value.\n",
      " |  \n",
      " |  __ge__(self, value, /)\n",
      " |      Return self>=value.\n",
      " |  \n",
      " |  __getattribute__(self, name, /)\n",
      " |      Return getattr(self, name).\n",
      " |  \n",
      " |  __getitem__(...)\n",
      " |      x.__getitem__(y) <==> x[y]\n",
      " |  \n",
      " |  __gt__(self, value, /)\n",
      " |      Return self>value.\n",
      " |  \n",
      " |  __iadd__(self, value, /)\n",
      " |      Implement self+=value.\n",
      " |  \n",
      " |  __imul__(self, value, /)\n",
      " |      Implement self*=value.\n",
      " |  \n",
      " |  __init__(self, /, *args, **kwargs)\n",
      " |      Initialize self.  See help(type(self)) for accurate signature.\n",
      " |  \n",
      " |  __iter__(self, /)\n",
      " |      Implement iter(self).\n",
      " |  \n",
      " |  __le__(self, value, /)\n",
      " |      Return self<=value.\n",
      " |  \n",
      " |  __len__(self, /)\n",
      " |      Return len(self).\n",
      " |  \n",
      " |  __lt__(self, value, /)\n",
      " |      Return self<value.\n",
      " |  \n",
      " |  __mul__(self, value, /)\n",
      " |      Return self*value.\n",
      " |  \n",
      " |  __ne__(self, value, /)\n",
      " |      Return self!=value.\n",
      " |  \n",
      " |  __repr__(self, /)\n",
      " |      Return repr(self).\n",
      " |  \n",
      " |  __reversed__(self, /)\n",
      " |      Return a reverse iterator over the list.\n",
      " |  \n",
      " |  __rmul__(self, value, /)\n",
      " |      Return value*self.\n",
      " |  \n",
      " |  __setitem__(self, key, value, /)\n",
      " |      Set self[key] to value.\n",
      " |  \n",
      " |  __sizeof__(self, /)\n",
      " |      Return the size of the list in memory, in bytes.\n",
      " |  \n",
      " |  append(self, object, /)\n",
      " |      Append object to the end of the list.\n",
      " |  \n",
      " |  clear(self, /)\n",
      " |      Remove all items from list.\n",
      " |  \n",
      " |  copy(self, /)\n",
      " |      Return a shallow copy of the list.\n",
      " |  \n",
      " |  count(self, value, /)\n",
      " |      Return number of occurrences of value.\n",
      " |  \n",
      " |  extend(self, iterable, /)\n",
      " |      Extend list by appending elements from the iterable.\n",
      " |  \n",
      " |  index(self, value, start=0, stop=9223372036854775807, /)\n",
      " |      Return first index of value.\n",
      " |      \n",
      " |      Raises ValueError if the value is not present.\n",
      " |  \n",
      " |  insert(self, index, object, /)\n",
      " |      Insert object before index.\n",
      " |  \n",
      " |  pop(self, index=-1, /)\n",
      " |      Remove and return item at index (default last).\n",
      " |      \n",
      " |      Raises IndexError if list is empty or index is out of range.\n",
      " |  \n",
      " |  remove(self, value, /)\n",
      " |      Remove first occurrence of value.\n",
      " |      \n",
      " |      Raises ValueError if the value is not present.\n",
      " |  \n",
      " |  reverse(self, /)\n",
      " |      Reverse *IN PLACE*.\n",
      " |  \n",
      " |  sort(self, /, *, key=None, reverse=False)\n",
      " |      Sort the list in ascending order and return None.\n",
      " |      \n",
      " |      The sort is in-place (i.e. the list itself is modified) and stable (i.e. the\n",
      " |      order of two equal elements is maintained).\n",
      " |      \n",
      " |      If a key function is given, apply it once to each list item and sort them,\n",
      " |      ascending or descending, according to their function values.\n",
      " |      \n",
      " |      The reverse flag can be set to sort in descending order.\n",
      " |  \n",
      " |  ----------------------------------------------------------------------\n",
      " |  Class methods defined here:\n",
      " |  \n",
      " |  __class_getitem__(...) from builtins.type\n",
      " |      See PEP 585\n",
      " |  \n",
      " |  ----------------------------------------------------------------------\n",
      " |  Static methods defined here:\n",
      " |  \n",
      " |  __new__(*args, **kwargs) from builtins.type\n",
      " |      Create and return a new object.  See help(type) for accurate signature.\n",
      " |  \n",
      " |  ----------------------------------------------------------------------\n",
      " |  Data and other attributes defined here:\n",
      " |  \n",
      " |  __hash__ = None\n",
      "\n"
     ]
    }
   ],
   "source": [
    "help( mylist )"
   ]
  },
  {
   "cell_type": "code",
   "execution_count": null,
   "id": "f96bbebe",
   "metadata": {},
   "outputs": [],
   "source": []
  },
  {
   "cell_type": "code",
   "execution_count": 37,
   "id": "bfdeff15",
   "metadata": {},
   "outputs": [
    {
     "name": "stdout",
     "output_type": "stream",
     "text": [
      "[100, 20, 'naina', 50, 50, 'h', 'e', 'y', 'h', 'e']\n",
      "[100, 20, 'naina', 50, 50, 'h', 'e', 'y', 'h']\n"
     ]
    }
   ],
   "source": [
    "print(mylist)\n",
    "mylist.pop()\n",
    "print(mylist)"
   ]
  },
  {
   "cell_type": "code",
   "execution_count": 42,
   "id": "737bbc8b",
   "metadata": {},
   "outputs": [
    {
     "name": "stdout",
     "output_type": "stream",
     "text": [
      "[100, 20, 50, 50, 'h', 'e', 'y', 'h']\n",
      "[100, 50, 50, 'h', 'e', 'y', 'h']\n"
     ]
    }
   ],
   "source": [
    "print(mylist)\n",
    "del mylist[1]\n",
    "print(mylist)"
   ]
  },
  {
   "cell_type": "code",
   "execution_count": 44,
   "id": "a9c7465e",
   "metadata": {},
   "outputs": [
    {
     "name": "stdout",
     "output_type": "stream",
     "text": [
      "100\n",
      "50\n",
      "50\n",
      "h\n",
      "e\n",
      "y\n",
      "h\n"
     ]
    }
   ],
   "source": [
    "# mylist  =   [10,20,300,\"hey\",11.5]\n",
    "\n",
    "for  var in mylist:\n",
    "    print(var)"
   ]
  },
  {
   "cell_type": "code",
   "execution_count": 49,
   "id": "376fb27d",
   "metadata": {},
   "outputs": [
    {
     "name": "stdout",
     "output_type": "stream",
     "text": [
      "[100, 400, 90000]\n"
     ]
    }
   ],
   "source": [
    "mylist  =   [10,20,300,\"hey\",11.5]\n",
    "new1=[]\n",
    "for i in mylist:\n",
    "    if( type(i) is int ):\n",
    "        new1.append(i**2)\n",
    "        \n",
    "        \n",
    "print(new1)"
   ]
  },
  {
   "cell_type": "code",
   "execution_count": 54,
   "id": "f3f3679f",
   "metadata": {},
   "outputs": [
    {
     "data": {
      "text/plain": [
       "True"
      ]
     },
     "execution_count": 54,
     "metadata": {},
     "output_type": "execute_result"
    }
   ],
   "source": [
    "# while\n",
    "num=153\n",
    "x1=num%10\n",
    "num=num//10\n",
    "\n",
    "x2=num%10\n",
    "num=num//10\n",
    "\n",
    "x3=num%10\n",
    "num=num//10\n",
    "\n",
    "153==(x1**3+x2**3+x3**3)"
   ]
  },
  {
   "cell_type": "code",
   "execution_count": 60,
   "id": "83d9c52e",
   "metadata": {},
   "outputs": [
    {
     "name": "stdout",
     "output_type": "stream",
     "text": [
      "Not armstrong\n"
     ]
    }
   ],
   "source": [
    "num=151\n",
    "x=num\n",
    "total=0\n",
    "\n",
    "while(num>0):\n",
    "    rem=num%10\n",
    "    total+= rem**3\n",
    "    num=num//10\n",
    "    \n",
    "if(total==x):\n",
    "    print(\"Armstrong\")\n",
    "else:\n",
    "    print(\"Not armstrong\")\n",
    "    \n"
   ]
  },
  {
   "cell_type": "code",
   "execution_count": 61,
   "id": "4f6bd1b8",
   "metadata": {},
   "outputs": [
    {
     "name": "stdout",
     "output_type": "stream",
     "text": [
      "<class 'int'>\n"
     ]
    }
   ],
   "source": [
    "# tuple \n",
    "# immutable\n",
    "\n",
    "mytuple=10\n",
    "print(type(mytuple))"
   ]
  },
  {
   "cell_type": "code",
   "execution_count": 65,
   "id": "b5647de0",
   "metadata": {},
   "outputs": [
    {
     "name": "stdout",
     "output_type": "stream",
     "text": [
      "<class 'tuple'>\n"
     ]
    }
   ],
   "source": [
    "mytuple=10,20,\"hello\"\n",
    "print(type(mytuple))"
   ]
  },
  {
   "cell_type": "code",
   "execution_count": 71,
   "id": "991c3bcf",
   "metadata": {},
   "outputs": [
    {
     "name": "stdout",
     "output_type": "stream",
     "text": [
      "<class 'tuple'>\n"
     ]
    }
   ],
   "source": [
    "mytuple=(10,20)\n",
    "print(type(mytuple))"
   ]
  },
  {
   "cell_type": "code",
   "execution_count": 75,
   "id": "e31947ea",
   "metadata": {},
   "outputs": [
    {
     "name": "stdout",
     "output_type": "stream",
     "text": [
      "2993472865024\n",
      "After 2993462267392\n",
      "(10, 20, 60, 70)\n"
     ]
    }
   ],
   "source": [
    "mytuple=(10,20)\n",
    "print(id(mytuple))\n",
    "\n",
    "mytuple=mytuple+(60,70)\n",
    "print(\"After\",id(mytuple))\n",
    "print(mytuple)"
   ]
  },
  {
   "cell_type": "code",
   "execution_count": 76,
   "id": "0920584e",
   "metadata": {},
   "outputs": [],
   "source": [
    "#dictionary\n",
    "# collection of element key:value\n",
    "# key:identifier\n",
    "# value is data\n",
    "# ordered collection of element"
   ]
  },
  {
   "cell_type": "code",
   "execution_count": 78,
   "id": "86777af4",
   "metadata": {},
   "outputs": [],
   "source": [
    "mydictionary={10:\"tushar\",  20:\"abhishek\"  }"
   ]
  },
  {
   "cell_type": "code",
   "execution_count": 84,
   "id": "ec0de03a",
   "metadata": {},
   "outputs": [
    {
     "name": "stdout",
     "output_type": "stream",
     "text": [
      "{10: 'aman', 20: 'abhishek'}\n"
     ]
    }
   ],
   "source": [
    "# update\n",
    "mydictionary[10]=\"aman\"\n",
    "print(mydictionary)"
   ]
  },
  {
   "cell_type": "code",
   "execution_count": 86,
   "id": "bf96377a",
   "metadata": {},
   "outputs": [
    {
     "name": "stdout",
     "output_type": "stream",
     "text": [
      "{10: 'aman', 20: 'abhishek', 30: 'aman'}\n"
     ]
    }
   ],
   "source": [
    "# insert\n",
    "mydictionary[30]=\"aman\"\n",
    "print(mydictionary)"
   ]
  },
  {
   "cell_type": "code",
   "execution_count": 90,
   "id": "801239f5",
   "metadata": {},
   "outputs": [
    {
     "name": "stdout",
     "output_type": "stream",
     "text": [
      "{20: 'abhishek', 30: 'aman'}\n",
      "{20: 'abhishek', 30: 'aman'}\n",
      "x value is: aman\n"
     ]
    }
   ],
   "source": [
    "print(mydictionary)\n",
    "\n",
    "# x=mydictionary.pop(10)\n",
    "print(mydictionary)\n",
    "\n",
    "print(\"x value is:\",x)"
   ]
  },
  {
   "cell_type": "code",
   "execution_count": 94,
   "id": "8812252d",
   "metadata": {},
   "outputs": [
    {
     "name": "stdout",
     "output_type": "stream",
     "text": [
      "{'h': 1, 'e': 1, 'l': 1, 'o': 1}\n"
     ]
    }
   ],
   "source": [
    "#\"helloo\"\n",
    "#{\"h\":1,  \"e\":1}\n",
    "\n",
    "mydictionary={}\n",
    "for char in \"hellooooo\":\n",
    "    mydictionary[char]=1\n",
    "    \n",
    "print(mydictionary)"
   ]
  },
  {
   "cell_type": "code",
   "execution_count": 99,
   "id": "be24ccab",
   "metadata": {},
   "outputs": [
    {
     "data": {
      "text/plain": [
       "True"
      ]
     },
     "execution_count": 99,
     "metadata": {},
     "output_type": "execute_result"
    }
   ],
   "source": [
    "mydictionary={10:\"tushar\",  20:\"abhishek\" , 10:\"ujjwal\" }\n",
    "20 in mydictionary"
   ]
  },
  {
   "cell_type": "code",
   "execution_count": 109,
   "id": "3aa5c38b",
   "metadata": {},
   "outputs": [
    {
     "name": "stdout",
     "output_type": "stream",
     "text": [
      "{'e': 2, 'o': 1, 'u': 1, 'a': 1}\n",
      "{'e': 12, 'o': 1, 'u': 1, 'a': 1}\n"
     ]
    }
   ],
   "source": [
    "print(mydictionary)\n",
    "\n",
    "mydictionary[\"e\"]= mydictionary[\"e\"]+10\n",
    "\n",
    "print(mydictionary)"
   ]
  },
  {
   "cell_type": "code",
   "execution_count": 111,
   "id": "ab6f0119",
   "metadata": {},
   "outputs": [
    {
     "name": "stdout",
     "output_type": "stream",
     "text": [
      "{'e': 2, 'o': 1, 'u': 1, 'a': 1}\n"
     ]
    }
   ],
   "source": [
    "\n",
    "mydictionary={}\n",
    "for char in \"hello hey tushar\":\n",
    "    if(char in \"aeiou\"):\n",
    "        if char not in mydictionary:\n",
    "            mydictionary[char]=1\n",
    "        else:\n",
    "            mydictionary[char]= mydictionary[char]+1 \n",
    "print(mydictionary)"
   ]
  },
  {
   "cell_type": "code",
   "execution_count": 118,
   "id": "9d6719c3",
   "metadata": {},
   "outputs": [
    {
     "name": "stdout",
     "output_type": "stream",
     "text": [
      "10 tushar\n",
      "20 abhishek\n",
      "30 ujjwal\n"
     ]
    }
   ],
   "source": [
    "mydictionary={10:\"tushar\",  20:\"abhishek\" , 30:\"ujjwal\" }\n",
    "\n",
    "for i in mydictionary:\n",
    "    print(i, mydictionary[i])"
   ]
  },
  {
   "cell_type": "code",
   "execution_count": 120,
   "id": "e35ba975",
   "metadata": {},
   "outputs": [
    {
     "name": "stdout",
     "output_type": "stream",
     "text": [
      "tushar\n",
      "abhishek\n",
      "ujjwal\n"
     ]
    }
   ],
   "source": [
    "mydictionary={10:\"tushar\",  20:\"abhishek\" , 30:\"ujjwal\" }\n",
    "\n",
    "for i in mydictionary.values():\n",
    "    print(i)"
   ]
  }
 ],
 "metadata": {
  "kernelspec": {
   "display_name": "Python 3 (ipykernel)",
   "language": "python",
   "name": "python3"
  },
  "language_info": {
   "codemirror_mode": {
    "name": "ipython",
    "version": 3
   },
   "file_extension": ".py",
   "mimetype": "text/x-python",
   "name": "python",
   "nbconvert_exporter": "python",
   "pygments_lexer": "ipython3",
   "version": "3.10.11"
  }
 },
 "nbformat": 4,
 "nbformat_minor": 5
}
